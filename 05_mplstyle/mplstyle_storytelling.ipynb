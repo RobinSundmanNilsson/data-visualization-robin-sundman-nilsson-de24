{
 "cells": [
  {
   "cell_type": "markdown",
   "id": "cf35c040",
   "metadata": {},
   "source": [
    "## Mplstyle and DRY for storytelling in Matplotlib"
   ]
  },
  {
   "cell_type": "code",
   "execution_count": null,
   "id": "87ba553e",
   "metadata": {},
   "outputs": [
    {
     "data": {
      "text/html": [
       "<div>\n",
       "<style scoped>\n",
       "    .dataframe tbody tr th:only-of-type {\n",
       "        vertical-align: middle;\n",
       "    }\n",
       "\n",
       "    .dataframe tbody tr th {\n",
       "        vertical-align: top;\n",
       "    }\n",
       "\n",
       "    .dataframe thead th {\n",
       "        text-align: right;\n",
       "    }\n",
       "</style>\n",
       "<table border=\"1\" class=\"dataframe\">\n",
       "  <thead>\n",
       "    <tr style=\"text-align: right;\">\n",
       "      <th></th>\n",
       "      <th>work_year</th>\n",
       "      <th>experience_level</th>\n",
       "      <th>employment_type</th>\n",
       "      <th>job_title</th>\n",
       "      <th>salary</th>\n",
       "      <th>salary_currency</th>\n",
       "      <th>salary_in_usd</th>\n",
       "      <th>employee_residence</th>\n",
       "      <th>work_setting</th>\n",
       "      <th>company_location</th>\n",
       "      <th>company_size</th>\n",
       "      <th>job_category</th>\n",
       "    </tr>\n",
       "  </thead>\n",
       "  <tbody>\n",
       "    <tr>\n",
       "      <th>0</th>\n",
       "      <td>2024</td>\n",
       "      <td>Entry-level</td>\n",
       "      <td>Freelance</td>\n",
       "      <td>Applied Data Scientist</td>\n",
       "      <td>30000</td>\n",
       "      <td>USD</td>\n",
       "      <td>30000</td>\n",
       "      <td>United Kingdom</td>\n",
       "      <td>Remote</td>\n",
       "      <td>United Kingdom</td>\n",
       "      <td>M</td>\n",
       "      <td>Data Science and Research</td>\n",
       "    </tr>\n",
       "    <tr>\n",
       "      <th>1</th>\n",
       "      <td>2024</td>\n",
       "      <td>Executive</td>\n",
       "      <td>Full-time</td>\n",
       "      <td>Business Intelligence</td>\n",
       "      <td>230000</td>\n",
       "      <td>USD</td>\n",
       "      <td>230000</td>\n",
       "      <td>United States</td>\n",
       "      <td>In-person</td>\n",
       "      <td>United States</td>\n",
       "      <td>M</td>\n",
       "      <td>BI and Visualization</td>\n",
       "    </tr>\n",
       "    <tr>\n",
       "      <th>2</th>\n",
       "      <td>2024</td>\n",
       "      <td>Executive</td>\n",
       "      <td>Full-time</td>\n",
       "      <td>Business Intelligence</td>\n",
       "      <td>176900</td>\n",
       "      <td>USD</td>\n",
       "      <td>176900</td>\n",
       "      <td>United States</td>\n",
       "      <td>In-person</td>\n",
       "      <td>United States</td>\n",
       "      <td>M</td>\n",
       "      <td>BI and Visualization</td>\n",
       "    </tr>\n",
       "    <tr>\n",
       "      <th>3</th>\n",
       "      <td>2024</td>\n",
       "      <td>Senior</td>\n",
       "      <td>Full-time</td>\n",
       "      <td>Data Architect</td>\n",
       "      <td>171210</td>\n",
       "      <td>USD</td>\n",
       "      <td>171210</td>\n",
       "      <td>Canada</td>\n",
       "      <td>In-person</td>\n",
       "      <td>Canada</td>\n",
       "      <td>M</td>\n",
       "      <td>Data Architecture and Modeling</td>\n",
       "    </tr>\n",
       "    <tr>\n",
       "      <th>4</th>\n",
       "      <td>2024</td>\n",
       "      <td>Senior</td>\n",
       "      <td>Full-time</td>\n",
       "      <td>Data Architect</td>\n",
       "      <td>92190</td>\n",
       "      <td>USD</td>\n",
       "      <td>92190</td>\n",
       "      <td>Canada</td>\n",
       "      <td>In-person</td>\n",
       "      <td>Canada</td>\n",
       "      <td>M</td>\n",
       "      <td>Data Architecture and Modeling</td>\n",
       "    </tr>\n",
       "    <tr>\n",
       "      <th>...</th>\n",
       "      <td>...</td>\n",
       "      <td>...</td>\n",
       "      <td>...</td>\n",
       "      <td>...</td>\n",
       "      <td>...</td>\n",
       "      <td>...</td>\n",
       "      <td>...</td>\n",
       "      <td>...</td>\n",
       "      <td>...</td>\n",
       "      <td>...</td>\n",
       "      <td>...</td>\n",
       "      <td>...</td>\n",
       "    </tr>\n",
       "    <tr>\n",
       "      <th>14194</th>\n",
       "      <td>2021</td>\n",
       "      <td>Senior</td>\n",
       "      <td>Full-time</td>\n",
       "      <td>Data Specialist</td>\n",
       "      <td>165000</td>\n",
       "      <td>USD</td>\n",
       "      <td>165000</td>\n",
       "      <td>United States</td>\n",
       "      <td>Remote</td>\n",
       "      <td>United States</td>\n",
       "      <td>L</td>\n",
       "      <td>Data Management and Strategy</td>\n",
       "    </tr>\n",
       "    <tr>\n",
       "      <th>14195</th>\n",
       "      <td>2020</td>\n",
       "      <td>Senior</td>\n",
       "      <td>Full-time</td>\n",
       "      <td>Data Scientist</td>\n",
       "      <td>412000</td>\n",
       "      <td>USD</td>\n",
       "      <td>412000</td>\n",
       "      <td>United States</td>\n",
       "      <td>Remote</td>\n",
       "      <td>United States</td>\n",
       "      <td>L</td>\n",
       "      <td>Data Science and Research</td>\n",
       "    </tr>\n",
       "    <tr>\n",
       "      <th>14196</th>\n",
       "      <td>2021</td>\n",
       "      <td>Mid-level</td>\n",
       "      <td>Full-time</td>\n",
       "      <td>Principal Data Scientist</td>\n",
       "      <td>151000</td>\n",
       "      <td>USD</td>\n",
       "      <td>151000</td>\n",
       "      <td>United States</td>\n",
       "      <td>Remote</td>\n",
       "      <td>United States</td>\n",
       "      <td>L</td>\n",
       "      <td>Data Science and Research</td>\n",
       "    </tr>\n",
       "    <tr>\n",
       "      <th>14197</th>\n",
       "      <td>2020</td>\n",
       "      <td>Entry-level</td>\n",
       "      <td>Full-time</td>\n",
       "      <td>Data Scientist</td>\n",
       "      <td>105000</td>\n",
       "      <td>USD</td>\n",
       "      <td>105000</td>\n",
       "      <td>United States</td>\n",
       "      <td>Remote</td>\n",
       "      <td>United States</td>\n",
       "      <td>S</td>\n",
       "      <td>Data Science and Research</td>\n",
       "    </tr>\n",
       "    <tr>\n",
       "      <th>14198</th>\n",
       "      <td>2020</td>\n",
       "      <td>Entry-level</td>\n",
       "      <td>Contract</td>\n",
       "      <td>Business Data Analyst</td>\n",
       "      <td>100000</td>\n",
       "      <td>USD</td>\n",
       "      <td>100000</td>\n",
       "      <td>United States</td>\n",
       "      <td>Remote</td>\n",
       "      <td>United States</td>\n",
       "      <td>L</td>\n",
       "      <td>Data Analysis</td>\n",
       "    </tr>\n",
       "  </tbody>\n",
       "</table>\n",
       "<p>14199 rows × 12 columns</p>\n",
       "</div>"
      ],
      "text/plain": [
       "       work_year experience_level employment_type                 job_title  \\\n",
       "0           2024      Entry-level       Freelance    Applied Data Scientist   \n",
       "1           2024        Executive       Full-time     Business Intelligence   \n",
       "2           2024        Executive       Full-time     Business Intelligence   \n",
       "3           2024           Senior       Full-time            Data Architect   \n",
       "4           2024           Senior       Full-time            Data Architect   \n",
       "...          ...              ...             ...                       ...   \n",
       "14194       2021           Senior       Full-time           Data Specialist   \n",
       "14195       2020           Senior       Full-time            Data Scientist   \n",
       "14196       2021        Mid-level       Full-time  Principal Data Scientist   \n",
       "14197       2020      Entry-level       Full-time            Data Scientist   \n",
       "14198       2020      Entry-level        Contract     Business Data Analyst   \n",
       "\n",
       "       salary salary_currency  salary_in_usd employee_residence work_setting  \\\n",
       "0       30000             USD          30000     United Kingdom       Remote   \n",
       "1      230000             USD         230000      United States    In-person   \n",
       "2      176900             USD         176900      United States    In-person   \n",
       "3      171210             USD         171210             Canada    In-person   \n",
       "4       92190             USD          92190             Canada    In-person   \n",
       "...       ...             ...            ...                ...          ...   \n",
       "14194  165000             USD         165000      United States       Remote   \n",
       "14195  412000             USD         412000      United States       Remote   \n",
       "14196  151000             USD         151000      United States       Remote   \n",
       "14197  105000             USD         105000      United States       Remote   \n",
       "14198  100000             USD         100000      United States       Remote   \n",
       "\n",
       "      company_location company_size                    job_category  \n",
       "0       United Kingdom            M       Data Science and Research  \n",
       "1        United States            M            BI and Visualization  \n",
       "2        United States            M            BI and Visualization  \n",
       "3               Canada            M  Data Architecture and Modeling  \n",
       "4               Canada            M  Data Architecture and Modeling  \n",
       "...                ...          ...                             ...  \n",
       "14194    United States            L    Data Management and Strategy  \n",
       "14195    United States            L       Data Science and Research  \n",
       "14196    United States            L       Data Science and Research  \n",
       "14197    United States            S       Data Science and Research  \n",
       "14198    United States            L                   Data Analysis  \n",
       "\n",
       "[14199 rows x 12 columns]"
      ]
     },
     "execution_count": 2,
     "metadata": {},
     "output_type": "execute_result"
    }
   ],
   "source": [
    "import matplotlib.pyplot as plt\n",
    "import pandas as pd\n",
    "import duckdb\n",
    "\n",
    "\n",
    "# in python script:\n",
    "# Path(__file__).parent / \"styles/base.mplstyle\"\n",
    "\n",
    "plt.style.use(\"styles/base.mplstyle\")\n",
    "\n",
    "df = pd.read_csv(\"data/jobs_in_data_2024.csv\")\n",
    "\n",
    "df"
   ]
  },
  {
   "cell_type": "code",
   "execution_count": 3,
   "id": "336edc3b",
   "metadata": {},
   "outputs": [
    {
     "data": {
      "text/plain": [
       "(14199, 12)"
      ]
     },
     "execution_count": 3,
     "metadata": {},
     "output_type": "execute_result"
    }
   ],
   "source": [
    "df.shape"
   ]
  },
  {
   "cell_type": "code",
   "execution_count": 4,
   "id": "be16626a",
   "metadata": {},
   "outputs": [
    {
     "data": {
      "text/plain": [
       "0             Data Science and Research\n",
       "1                  BI and Visualization\n",
       "2                  BI and Visualization\n",
       "3        Data Architecture and Modeling\n",
       "4        Data Architecture and Modeling\n",
       "                      ...              \n",
       "14194      Data Management and Strategy\n",
       "14195         Data Science and Research\n",
       "14196         Data Science and Research\n",
       "14197         Data Science and Research\n",
       "14198                     Data Analysis\n",
       "Name: job_category, Length: 14199, dtype: object"
      ]
     },
     "execution_count": 4,
     "metadata": {},
     "output_type": "execute_result"
    }
   ],
   "source": [
    "df[\"job_category\"]"
   ]
  },
  {
   "cell_type": "code",
   "execution_count": 9,
   "id": "e2182e08",
   "metadata": {},
   "outputs": [
    {
     "data": {
      "text/plain": [
       "job_category\n",
       "Data Science and Research         4675\n",
       "Data Engineering                  3157\n",
       "Data Analysis                     2204\n",
       "Machine Learning and AI           2148\n",
       "Leadership and Management          791\n",
       "BI and Visualization               600\n",
       "Data Architecture and Modeling     419\n",
       "Data Management and Strategy       115\n",
       "Data Quality and Operations         79\n",
       "Cloud and Database                  11\n",
       "Name: count, dtype: int64"
      ]
     },
     "execution_count": 9,
     "metadata": {},
     "output_type": "execute_result"
    }
   ],
   "source": [
    "df_job_categories = df[\"job_category\"].value_counts()\n",
    "\n",
    "df_job_categories"
   ]
  },
  {
   "cell_type": "code",
   "execution_count": 10,
   "id": "55a4fbd8",
   "metadata": {},
   "outputs": [
    {
     "data": {
      "text/plain": [
       "pandas.core.series.Series"
      ]
     },
     "execution_count": 10,
     "metadata": {},
     "output_type": "execute_result"
    }
   ],
   "source": [
    "type(df_job_categories)"
   ]
  },
  {
   "cell_type": "markdown",
   "id": "6fa888bf",
   "metadata": {},
   "source": [
    "## Visualizations"
   ]
  },
  {
   "cell_type": "code",
   "execution_count": null,
   "id": "291c81df",
   "metadata": {},
   "outputs": [
    {
     "data": {
      "image/png": "[encoded data removed]",
      "text/plain": [
       "<Figure size 640x480 with 1 Axes>"
      ]
     },
     "metadata": {},
     "output_type": "display_data"
    }
   ],
   "source": [
    "ax = df_job_categories.plot(kind=\"barh\")\n",
    "\n",
    "ax.invert_yaxis()\n"
   ]
  }
 ],
 "metadata": {
  "kernelspec": {
   "display_name": ".venv",
   "language": "python",
   "name": "python3"
  },
  "language_info": {
   "codemirror_mode": {
    "name": "ipython",
    "version": 3
   },
   "file_extension": ".py",
   "mimetype": "text/x-python",
   "name": "python",
   "nbconvert_exporter": "python",
   "pygments_lexer": "ipython3",
   "version": "3.12.8"
  }
 },
 "nbformat": 4,
 "nbformat_minor": 5
}
