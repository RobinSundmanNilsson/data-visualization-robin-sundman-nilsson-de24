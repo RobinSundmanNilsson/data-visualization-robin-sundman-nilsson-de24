{
 "cells": [
  {
   "cell_type": "markdown",
   "id": "169717e2",
   "metadata": {},
   "source": [
    "## Matplotlib Bar-Chart Storytelling"
   ]
  }
 ],
 "metadata": {
  "language_info": {
   "name": "python"
  }
 },
 "nbformat": 4,
 "nbformat_minor": 5
}
